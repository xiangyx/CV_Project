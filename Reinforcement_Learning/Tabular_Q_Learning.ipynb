{
 "cells": [
  {
   "cell_type": "markdown",
   "metadata": {},
   "source": [
    "# Import packages"
   ]
  },
  {
   "cell_type": "code",
   "execution_count": null,
   "metadata": {},
   "outputs": [],
   "source": [
    "import gym\n",
    "import time\n",
    "import numpy as np "
   ]
  },
  {
   "cell_type": "markdown",
   "metadata": {},
   "source": [
    "# Agent"
   ]
  },
  {
   "cell_type": "code",
   "execution_count": null,
   "metadata": {},
   "outputs": [],
   "source": [
    "class QLearningAgent(object):\n",
    "    def __init__(self, obs_n, act_n, learning_rate=0.01, gamma=0.9, e_greed=0.1):\n",
    "        self.act_n = act_n      # number of actions\n",
    "        self.lr = learning_rate # learning rate\n",
    "        self.gamma = gamma      # decay parameter (reward)\n",
    "        self.epsilon = e_greed  # epsilon-greedy\n",
    "        self.Q = np.zeros((obs_n, act_n))\n",
    "\n",
    "    # sample a action using epsilon-greedy\n",
    "    def sample(self, obs):\n",
    "        if np.random.uniform(0, 1) < (1.0 - self.epsilon): \n",
    "            action = self.predict(obs)\n",
    "        else:\n",
    "            action = np.random.choice(self.act_n) \n",
    "        return action\n",
    "\n",
    "    # choosing an action from current state using Q(s,a) table\n",
    "    def predict(self, obs):\n",
    "        Q_list = self.Q[obs, :]\n",
    "        maxQ = np.max(Q_list)\n",
    "        action_list = np.where(Q_list == maxQ)[0]  # maxQ may have duplications\n",
    "        action = np.random.choice(action_list)\n",
    "        return action\n",
    "\n",
    "    # Updating Q(s,a) table\n",
    "    def learn(self, obs, action, reward, next_obs, done):\n",
    "        \"\"\" on-policy\n",
    "            obs: s_t\n",
    "            action: a_t\n",
    "            reward: r\n",
    "            next_obs: s_t+1\n",
    "            done: whether an episode is over\n",
    "        \"\"\"\n",
    "        predict_Q = self.Q[obs, action]\n",
    "        if done:\n",
    "            target_Q = reward # fall into absorbing state\n",
    "        else:\n",
    "            target_Q = reward + self.gamma * np.max(self.Q[next_obs, :]) # Q-learning\n",
    "        self.Q[obs, action] += self.lr * (target_Q - predict_Q) # # update table\n",
    "\n",
    "    # # save Q(s,a) table locally\n",
    "    def save(self):\n",
    "        npy_file = './q_table.npy'\n",
    "        np.save(npy_file, self.Q)\n",
    "        print(npy_file + ' saved.')\n",
    "    \n",
    "    # load Q(s,a) table\n",
    "    def restore(self, npy_file='./q_table.npy'):\n",
    "        self.Q = np.load(npy_file)\n",
    "        print(npy_file + ' loaded.')"
   ]
  },
  {
   "cell_type": "markdown",
   "metadata": {},
   "source": [
    "# Training and test"
   ]
  },
  {
   "cell_type": "code",
   "execution_count": null,
   "metadata": {},
   "outputs": [],
   "source": [
    "def run_episode(env, agent, render=False):\n",
    "    total_steps = 0 # The number of steps in an episode\n",
    "    total_reward = 0\n",
    "\n",
    "    obs = env.reset() # start a new episode\n",
    "\n",
    "    while True:\n",
    "        action = agent.sample(obs) \n",
    "        next_obs, reward, done, _ = env.step(action) \n",
    "        # training using Q-Learning\n",
    "        agent.learn(obs, action, reward, next_obs, done)\n",
    "\n",
    "        obs = next_obs  \n",
    "        total_reward += reward\n",
    "        total_steps += 1 \n",
    "        if render:\n",
    "            env.render() \n",
    "        if done:\n",
    "            break\n",
    "    return total_reward, total_steps\n",
    "\n",
    "def test_episode(env, agent):\n",
    "    total_reward = 0\n",
    "    obs = env.reset()\n",
    "    while True:\n",
    "        action = agent.predict(obs) # greedy\n",
    "        next_obs, reward, done, _ = env.step(action)\n",
    "        total_reward += reward\n",
    "        obs = next_obs\n",
    "        # time.sleep(0.5)\n",
    "        # env.render()\n",
    "        if done:\n",
    "            break\n",
    "    return total_reward"
   ]
  },
  {
   "cell_type": "markdown",
   "metadata": {},
   "source": [
    "# Create environment and agent then start training"
   ]
  },
  {
   "cell_type": "code",
   "execution_count": null,
   "metadata": {},
   "outputs": [],
   "source": [
    "env = gym.make(\"CliffWalking-v0\")  # 0 up, 1 right, 2 down, 3 left\n",
    "\n",
    "agent = QLearningAgent(\n",
    "    obs_n=env.observation_space.n,\n",
    "    act_n=env.action_space.n,\n",
    "    learning_rate=0.1,\n",
    "    gamma=0.9,\n",
    "    e_greed=0.1)\n",
    "\n",
    "# 500 episodes\n",
    "for episode in range(500):\n",
    "    ep_reward, ep_steps = run_episode(env, agent, False)\n",
    "    print(f'Episode {episode}: steps = {ep_steps} , reward = {ep_reward:.1f}')\n",
    "\n",
    "# Evaluation after training\n",
    "test_reward = test_episode(env, agent)\n",
    "print(f'test reward = {test_reward:.1f}')"
   ]
  }
 ],
 "metadata": {
  "language_info": {
   "name": "python"
  },
  "orig_nbformat": 4
 },
 "nbformat": 4,
 "nbformat_minor": 2
}
